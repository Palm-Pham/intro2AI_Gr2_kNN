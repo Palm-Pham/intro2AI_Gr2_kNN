{
 "cells": [
  {
   "cell_type": "code",
   "execution_count": 1,
   "id": "ff77fbca-a1cd-46de-a03f-e936b0e684f7",
   "metadata": {},
   "outputs": [],
   "source": [
    "import pandas as pd\n",
    "import csv\n",
    "from sklearn.model_selection import train_test_split\n",
    "\n",
    "\n",
    "data= pd.read_csv('final_pollution_dataset.csv')\n",
    "#train= train2+ val\n",
    "#20% for test set\n",
    "train, test= train_test_split(data, test_size= 0.2)\n",
    "#use .head() to visualize in a table + an int as parameter\n",
    "\n",
    "#train2 is the real training dataset that we use\n",
    "#val is for validation\n",
    "#20% for validation set\n",
    "train2, val= train_test_split(train, test_size= 0.1)\n",
    "train2.to_csv(\"Training_set.csv\")\n",
    "val.to_csv(\"Validating_set.csv\")\n",
    "test.to_csv(\"Test_set.csv\")\n"
   ]
  },
  {
   "cell_type": "code",
   "execution_count": null,
   "id": "64a61f07-62f5-412e-8a66-b314ba9831f5",
   "metadata": {},
   "outputs": [],
   "source": []
  }
 ],
 "metadata": {
  "kernelspec": {
   "display_name": "ml_ds_envi",
   "language": "python",
   "name": "python3"
  },
  "language_info": {
   "codemirror_mode": {
    "name": "ipython",
    "version": 3
   },
   "file_extension": ".py",
   "mimetype": "text/x-python",
   "name": "python",
   "nbconvert_exporter": "python",
   "pygments_lexer": "ipython3",
   "version": "3.12.2"
  }
 },
 "nbformat": 4,
 "nbformat_minor": 5
}
