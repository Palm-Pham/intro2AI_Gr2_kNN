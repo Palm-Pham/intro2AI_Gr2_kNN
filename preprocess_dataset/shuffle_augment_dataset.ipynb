{
 "cells": [
  {
   "cell_type": "code",
   "execution_count": 1,
   "metadata": {},
   "outputs": [],
   "source": [
    "import random\n",
    "import csv\n",
    "\n",
    "# Read the lines of the file updated_pollution_dataset.csv\n",
    "with open('updated_pollution_dataset.csv', 'r') as f:\n",
    "    lines = f.readlines()\n",
    "\n",
    "# Separate the header from the rest of the lines\n",
    "header = lines[0]\n",
    "data_lines = lines[1:]\n",
    "\n",
    "# Shuffle the data lines\n",
    "random.shuffle(data_lines)\n",
    "\n",
    "# Write the shuffled lines to a new file called shuffled_pollution_dataset.csv\n",
    "with open('shuffled_pollution_dataset.csv', 'w', newline='') as f:\n",
    "    f.write(header)\n",
    "    f.writelines(data_lines)"
   ]
  },
  {
   "cell_type": "code",
   "execution_count": 1,
   "metadata": {},
   "outputs": [],
   "source": [
    "import csv\n",
    "import random\n",
    "\n",
    "def add_noise(data, noise_level=0.01):\n",
    "    augmented_data = []\n",
    "    for row in data:\n",
    "        new_row = []\n",
    "        for val in row[:-1]:  # Exclude the label\n",
    "            noise = random.uniform(-noise_level, noise_level) * float(val)\n",
    "            new_val = float(val) + noise\n",
    "            new_row.append(new_val)\n",
    "        new_row.append(row[-1])  # Append the label\n",
    "        augmented_data.append(new_row)\n",
    "    return augmented_data\n",
    "\n",
    "# Read the original dataset\n",
    "with open('updated_pollution_dataset.csv', 'r') as f:\n",
    "    reader = csv.reader(f)\n",
    "    header = next(reader)\n",
    "    data = [row for row in reader]\n",
    "\n",
    "# Augment the dataset\n",
    "augmented_data = add_noise(data)\n",
    "\n",
    "# Combine original and augmented data\n",
    "combined_data = data + augmented_data\n",
    "print(len(combined_data))\n",
    "# Write the combined data to a new file\n",
    "with open('augmented_pollution_dataset.csv', 'w', newline='') as f:\n",
    "    writer = csv.writer(f)\n",
    "    writer.writerow(header)\n",
    "    writer.writerows(combined_data)"
   ]
  }
 ],
 "metadata": {
  "kernelspec": {
   "display_name": "ml_ds_envi",
   "language": "python",
   "name": "python3"
  },
  "language_info": {
   "codemirror_mode": {
    "name": "ipython",
    "version": 3
   },
   "file_extension": ".py",
   "mimetype": "text/x-python",
   "name": "python",
   "nbconvert_exporter": "python",
   "pygments_lexer": "ipython3",
   "version": "3.12.2"
  }
 },
 "nbformat": 4,
 "nbformat_minor": 2
}
