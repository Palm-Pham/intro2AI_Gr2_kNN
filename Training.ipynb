{
 "cells": [
  {
   "cell_type": "code",
   "execution_count": 38,
   "id": "7432e972-4364-425c-9e93-166de52d420d",
   "metadata": {},
   "outputs": [
    {
     "name": "stdout",
     "output_type": "stream",
     "text": [
      "Predicted Air Quality: Hazardous\n"
     ]
    }
   ],
   "source": [
    "import numpy as np\n",
    "import pandas as pd\n",
    "\n",
    "# Load training data\n",
    "training = pd.read_csv(\"Training_set.csv\", usecols=['SO2', 'CO', 'Proximity_to_Industrial_Areas', 'Air Quality'])\n",
    "training_array = training[['SO2', 'CO', 'Proximity_to_Industrial_Areas']].to_numpy()\n",
    "category_array = training['Air Quality'].to_numpy()\n",
    "\n",
    "# Minkowski distance function (p=3)\n",
    "def minkowski_distance(x, y, p=3):\n",
    "    sum=0\n",
    "    for i in range(len(x)):\n",
    "        sum += abs(x[i] - y[i])**p\n",
    "    return sum ** (1 / p)\n",
    "\n",
    "# Function to categorize a point\n",
    "def categorize(point):\n",
    "    for i in range(len(training_array)):\n",
    "        if np.array_equal(training_array[i], point):\n",
    "            return category_array[i]\n",
    "    return None\n",
    "\n",
    "# K-Nearest Neighbors (KNN) function\n",
    "def KNN(trainSet, point, k):\n",
    "    distances = []\n",
    "\n",
    "    # Calculate distances between the point and all training data\n",
    "    for i in range(len(trainSet)):\n",
    "        dist = minkowski_distance(trainSet[i], point)\n",
    "        #add distances to the list\n",
    "        distances.append((dist, category_array[i]))\n",
    "\n",
    "    # Sort distances in ascending order and select top k\n",
    "    distances.sort()\n",
    "    top_k_distances = distances[:k]\n",
    "\n",
    "    # Count occurrences of each category in the top k\n",
    "    counts = {'Good': 0, 'Moderate': 0, 'Poor': 0, 'Hazardous': 0}\n",
    "    # donot need distance value in the loop so use _ to ignore\n",
    "    for _, category in top_k_distances:\n",
    "        counts[category] += 1\n",
    "\n",
    "    # Determine the category with the highest count\n",
    "\n",
    "    #use key= counts.get to retrieve the value for a given key\n",
    "    return max(counts, key=counts.get)\n",
    "\n",
    "# Example point to classify\n",
    "point = [12.8, 2.09, 2.7]\n",
    "k = 10\n",
    "\n",
    "result = KNN(training_array, point, k)\n",
    "print(\"Predicted Air Quality:\", result)\n"
   ]
  },
  {
   "cell_type": "code",
   "execution_count": null,
   "id": "4931ba9c-75eb-4dce-ad22-ec20d9e52549",
   "metadata": {},
   "outputs": [],
   "source": []
  }
 ],
 "metadata": {
  "kernelspec": {
   "display_name": "Python 3 (ipykernel)",
   "language": "python",
   "name": "python3"
  },
  "language_info": {
   "codemirror_mode": {
    "name": "ipython",
    "version": 3
   },
   "file_extension": ".py",
   "mimetype": "text/x-python",
   "name": "python",
   "nbconvert_exporter": "python",
   "pygments_lexer": "ipython3",
   "version": "3.12.7"
  }
 },
 "nbformat": 4,
 "nbformat_minor": 5
}
